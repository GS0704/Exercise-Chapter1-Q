{
 "cells": [
  {
   "cell_type": "markdown",
   "id": "4a3f1313",
   "metadata": {},
   "source": [
    "## 출력하기"
   ]
  },
  {
   "cell_type": "code",
   "execution_count": 4,
   "id": "62b4a29a",
   "metadata": {},
   "outputs": [
    {
     "name": "stdout",
     "output_type": "stream",
     "text": [
      "안녕하세요 이름입니다\n"
     ]
    }
   ],
   "source": [
    "a = \"이름\"\n",
    "print(f\"안녕하세요 {a}입니다\")"
   ]
  },
  {
   "cell_type": "markdown",
   "id": "de40ca63",
   "metadata": {},
   "source": [
    "<h2> 미니 실습 1: 네 정수의 최댓값을 구하는 함수를 작성하고, 값을 입력받아 최댓값을 출력하라 </h2>"
   ]
  },
  {
   "cell_type": "code",
   "execution_count": 12,
   "id": "a31772c3",
   "metadata": {},
   "outputs": [],
   "source": [
    "def compare(a,b):\n",
    "    if a > b :\n",
    "        return a\n",
    "    if b >= a :\n",
    "        return b"
   ]
  },
  {
   "cell_type": "code",
   "execution_count": 15,
   "id": "791fd3ba",
   "metadata": {},
   "outputs": [
    {
     "name": "stdout",
     "output_type": "stream",
     "text": [
      "숫자를 입력하세요1\n",
      "숫자를 입력하세요35\n",
      "숫자를 입력하세요23\n",
      "숫자를 입력하세요7\n"
     ]
    }
   ],
   "source": [
    "a = int(input( \"숫자를 입력하세요\"))\n",
    "b = int(input( \"숫자를 입력하세요\"))\n",
    "c = int(input( \"숫자를 입력하세요\"))\n",
    "d = int(input( \"숫자를 입력하세요\"))\n",
    "Max = 0"
   ]
  },
  {
   "cell_type": "code",
   "execution_count": 16,
   "id": "d60c6106",
   "metadata": {
    "scrolled": true
   },
   "outputs": [
    {
     "name": "stdout",
     "output_type": "stream",
     "text": [
      "35\n"
     ]
    }
   ],
   "source": [
    "Max = compare(Max,a)\n",
    "Max = compare(Max,b)\n",
    "Max = compare(Max,c)\n",
    "Max = compare(Max,d)\n",
    "print(Max)"
   ]
  },
  {
   "cell_type": "markdown",
   "id": "2f5a729e",
   "metadata": {},
   "source": [
    "## 미니실습 2\n",
    "### 다음은 A, B 두 수도 회사의 요금 체계이다.\n",
    "> A : 1L당 요즘 100원,\n",
    "> B : 50리터 이하 1L당 요금 150원, 50리터 초과는 1L당 75원\n",
    "* 수도 회사와 수도 사용량을 입력 받아서 지불 해야하는 수도 요금을 계산하는 waterPay()를 만들고, 수도 회사와 수도 사용량을 입력 받아 요금을 출력하라.\n"
   ]
  },
  {
   "cell_type": "code",
   "execution_count": 17,
   "id": "befbc60a",
   "metadata": {},
   "outputs": [],
   "source": [
    "def waterPay(comA, comB):\n",
    "    if comB <= 50:\n",
    "        comB_pay = comB*150\n",
    "    if comB > 50:\n",
    "        comB_pay = comB*75\n",
    "    comA_pay = comA*100\n",
    "    return comA_pay + comB_pay"
   ]
  },
  {
   "cell_type": "code",
   "execution_count": 19,
   "id": "cdb05833",
   "metadata": {},
   "outputs": [
    {
     "data": {
      "text/plain": [
       "68750"
      ]
     },
     "execution_count": 19,
     "metadata": {},
     "output_type": "execute_result"
    }
   ],
   "source": [
    "comA = 500\n",
    "comB = 250\n",
    "waterPay(comA,comB)"
   ]
  },
  {
   "cell_type": "markdown",
   "id": "d11b2afa",
   "metadata": {},
   "source": [
    "* 궁금해서 하게된 문제 - 내가 50000원이 있을 때 어디에 넣어야 되는가?"
   ]
  },
  {
   "cell_type": "code",
   "execution_count": 24,
   "id": "0ca07d6b",
   "metadata": {},
   "outputs": [],
   "source": [
    "import pulp"
   ]
  },
  {
   "cell_type": "code",
   "execution_count": 79,
   "id": "18024dcf",
   "metadata": {},
   "outputs": [
    {
     "name": "stdout",
     "output_type": "stream",
     "text": [
      "몇 리터 충전하시겠습니까?55\n",
      "Optimal ; min value = 5500.0 ; x1_opt = 55.0 ; x2_opt = 0.0\n"
     ]
    }
   ],
   "source": [
    "gallon = int(input(\"몇 리터 충전하시겠습니까?\"))\n",
    "# 목적식\n",
    "linearProblem = pulp.LpProblem(\"Minimizing for first objective\",pulp.LpMinimize)\n",
    "\n",
    "\n",
    "x1 = pulp.LpVariable(\"ComA\", lowBound = 0)\n",
    "x2 = pulp.LpVariable(\"ComB\", lowBound = 0)\n",
    "\n",
    "linearProblem += x1 + x2\n",
    "# 목적식\n",
    "if x2 >= 50:\n",
    "    linearProblem += 100*x1 + 75*x2\n",
    "if x2 <= 50:\n",
    "    linearProblem += 100*x1 + 150*x2\n",
    "    \n",
    "# 제약식\n",
    "linearProblem += x1 + x2 == gallon\n",
    "\n",
    "# 최적화 솔루션\n",
    "solution = linearProblem.solve()\n",
    "\n",
    "print(str(pulp.LpStatus[solution])+\" ; min value = \" +str(pulp.value(linearProblem.objective))+\n",
    "      \" ; x1_opt = \"+str(pulp.value(x1))+\n",
    "      \" ; x2_opt = \"+str(pulp.value(x2)))"
   ]
  },
  {
   "cell_type": "markdown",
   "id": "f46704ce",
   "metadata": {},
   "source": [
    "## 미니실습 3\n",
    "### 앞 페이지의 코드에서 for loop 안의 if 문에서 앞부분 if는 반복 시에 대부분 시행되지만 else 부분은 맨 마지막에만 시행된다.\n",
    "### 따라서 else 에 해당하는 부분을 반복 부분이 아니고 반복이 끝난 이후에 시행되도록 코드를 변경하라."
   ]
  },
  {
   "cell_type": "code",
   "execution_count": 46,
   "id": "a0d7ce53",
   "metadata": {},
   "outputs": [
    {
     "name": "stdout",
     "output_type": "stream",
     "text": [
      "a부터b까지정수의합을구합니다.\n",
      "정수a를입력하세요.: 1\n",
      "정수b를입력하세요.: 50\n",
      "1 + 2 + 3 + 4 + 5 + 6 + 7 + 8 + 9 + 10 + 11 + 12 + 13 + 14 + 15 + 16 + 17 + 18 + 19 + 20 + 21 + 22 + 23 + 24 + 25 + 26 + 27 + 28 + 29 + 30 + 31 + 32 + 33 + 34 + 35 + 36 + 37 + 38 + 39 + 40 + 41 + 42 + 43 + 44 + 45 + 46 + 47 + 48 + 49 + 50 = 1275\n"
     ]
    }
   ],
   "source": [
    "print('a부터b까지정수의합을구합니다.')\n",
    "a = int(input('정수a를입력하세요.: '))\n",
    "b = int(input('정수b를입력하세요.: '))\n",
    "\n",
    "if a > b:\n",
    "    a, b = b, a\n",
    "sum = 0\n",
    "for i in range(a, b+1):\n",
    "    if i < b:\n",
    "        print(f'{i} + ', end='')\n",
    "    sum += i\n",
    "print(f'{i} = ', end='')    \n",
    "print(sum)"
   ]
  },
  {
   "cell_type": "markdown",
   "id": "eee61b86",
   "metadata": {},
   "source": [
    "## 미니실습 4\n",
    "### 앞 페이지의 코드에서는 두 변의 길이 순서를 고려하지 않고 가능한 조합만 표시되었다.\n",
    "### 앞 변과 뒷 변의 길이를 고려하여 가능한 모든 경우가 표시되게 수정하여라"
   ]
  },
  {
   "cell_type": "code",
   "execution_count": 84,
   "id": "d6ce0909",
   "metadata": {},
   "outputs": [
    {
     "name": "stdout",
     "output_type": "stream",
     "text": [
      " 직사각형의 넓이를 입력하요.: 32\n",
      "1x32\n",
      "2x16\n",
      "4x8\n",
      "8x4\n",
      "16x2\n",
      "32x1\n"
     ]
    }
   ],
   "source": [
    "area = int(input(' 직사각형의 넓이를 입력하요.: '))\n",
    "\n",
    "for i in range(1, area + 1):\n",
    "    if area %i : \n",
    "        continue\n",
    "    print(f'{i}x{area//i}')"
   ]
  },
  {
   "attachments": {
    "image.png": {
     "image/png": "[encoded data removed]"
    }
   },
   "cell_type": "markdown",
   "id": "7b7f36d7",
   "metadata": {},
   "source": [
    "### 실습 1\n",
    "#### 다음과 같이 계산되는 전기 요금 산출 함수 electricPay()를 만들고, 전사용량(kWh)을 인수로 전해주면 전기 요금(원)을 계산하여 return해 준다.\n",
    "![image.png](attachment:image.png)"
   ]
  },
  {
   "cell_type": "code",
   "execution_count": 103,
   "id": "9af2d114",
   "metadata": {},
   "outputs": [],
   "source": [
    "def electricPay(use_electric):\n",
    "    if use_electric < 100 :\n",
    "        Normal_Pay = 410\n",
    "        e_Pay =  60.7 * use_electric\n",
    "\n",
    "    if 100 <= use_electric <= 200 :\n",
    "        Normal_Pay = 910\n",
    "        e_Pay =  60.7 * 100 + (use_electric - 100)* 125.9\n",
    "\n",
    "    if 200 < use_electric :\n",
    "        Normal_Pay = 1600\n",
    "        e_Pay =  60.7 * 100 + (100) * 125.9 + (use_electric - 200) *187.9\n",
    "        \n",
    "    result = e_Pay + Normal_Pay\n",
    "    return int(result+ result*0.1 + result*0.037)\n"
   ]
  },
  {
   "cell_type": "code",
   "execution_count": 105,
   "id": "f325d66c",
   "metadata": {},
   "outputs": [
    {
     "data": {
      "text/plain": [
       "7936"
      ]
     },
     "execution_count": 105,
     "metadata": {},
     "output_type": "execute_result"
    }
   ],
   "source": [
    "use_electric = 100\n",
    "electricPay(use_electric)"
   ]
  },
  {
   "cell_type": "markdown",
   "id": "d812d1f8",
   "metadata": {},
   "source": [
    "### 실습 2\n",
    "\n",
    "#### + 와 - 번갈아 가면서 출력하려고 하며, 몇 개를 출력 할지는 입력을 받아 입력된 개수만큼 출력하라."
   ]
  },
  {
   "cell_type": "code",
   "execution_count": 140,
   "id": "8284af63",
   "metadata": {},
   "outputs": [
    {
     "name": "stdout",
     "output_type": "stream",
     "text": [
      "몇개를 출력할까요?12\n",
      "\n",
      "+-+-+-+-+-+-\n"
     ]
    }
   ],
   "source": [
    "pm = \"+-\"\n",
    "Count = int(input(\"몇개를 출력할까요?\"))\n",
    "\n",
    "result = pm*int((Count+1)/2)\n",
    "result = result[:Count]\n",
    "print(f\"\\n{result}\")"
   ]
  },
  {
   "cell_type": "markdown",
   "id": "ee1a184a",
   "metadata": {},
   "source": [
    "### 실습 3\n",
    "#### 1부터 12까지 for loop를 활용하여 출력하는 데, 8은 건너뛰고 출력하라."
   ]
  },
  {
   "cell_type": "code",
   "execution_count": 142,
   "id": "bc35c5b9",
   "metadata": {},
   "outputs": [
    {
     "name": "stdout",
     "output_type": "stream",
     "text": [
      "1\n",
      "2\n",
      "3\n",
      "4\n",
      "5\n",
      "6\n",
      "7\n",
      "9\n",
      "10\n",
      "11\n"
     ]
    }
   ],
   "source": [
    "for i in range(1,12):\n",
    "    if i == 8:\n",
    "        continue\n",
    "    print(i)"
   ]
  },
  {
   "cell_type": "markdown",
   "id": "2c84e2fc",
   "metadata": {},
   "source": [
    "### 실습 4\n",
    "#### 사용자에게 정수를 입력 받아, root ** pwr 값이 사용자가 입력 한 정수와 같은 두 개의 정수 root 및 pwr을 찾아 출력하라(단, 1< pwr < 6). \n",
    "#### 그러한 정수 쌍이 없으면 결과가 없음을 출력하라.\n",
    "> root ** pwr은 root를 pwr 만큼 거듭제곱하였다는 뜻이다. 예를 들어 2**3은 2의 세 제곱이며 값은 8이다."
   ]
  },
  {
   "cell_type": "code",
   "execution_count": 154,
   "id": "c58d14ea",
   "metadata": {},
   "outputs": [
    {
     "name": "stdout",
     "output_type": "stream",
     "text": [
      "없습니다\n"
     ]
    }
   ],
   "source": [
    "User_number = 230\n",
    "rem_root = 0\n",
    "rem_pwr = 0\n",
    "for root in range(1,int(User_number/2) ):\n",
    "    for pwr in range(1,6):\n",
    "        if User_number == root ** pwr:\n",
    "            rem_root = root\n",
    "            rem_pwr = pwr\n",
    "if rem_root != 0 :\n",
    "    print(f\"{User_number}는 {rem_root}의 {rem_pwr} 승 으로 되어있습니다.\")\n",
    "else :\n",
    "    print(f\"없습니다\")"
   ]
  },
  {
   "cell_type": "code",
   "execution_count": 151,
   "id": "152fd5e7",
   "metadata": {},
   "outputs": [
    {
     "data": {
      "text/plain": [
       "121"
      ]
     },
     "execution_count": 151,
     "metadata": {},
     "output_type": "execute_result"
    }
   ],
   "source": [
    "11 **2"
   ]
  }
 ],
 "metadata": {
  "kernelspec": {
   "display_name": "aivle",
   "language": "python",
   "name": "aivle"
  },
  "language_info": {
   "codemirror_mode": {
    "name": "ipython",
    "version": 3
   },
   "file_extension": ".py",
   "mimetype": "text/x-python",
   "name": "python",
   "nbconvert_exporter": "python",
   "pygments_lexer": "ipython3",
   "version": "3.8.8"
  }
 },
 "nbformat": 4,
 "nbformat_minor": 5
}
